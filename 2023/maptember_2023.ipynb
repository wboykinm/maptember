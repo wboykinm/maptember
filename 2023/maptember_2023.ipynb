{
 "cells": [
  {
   "cell_type": "markdown",
   "id": "d693484b",
   "metadata": {},
   "source": [
    "# Maptember (Mapvember?) 2023\n",
    "Most of the time it feels like I'm whispering into a void on social media these days, so this, dear mapmakers, is now a selfish exercise. As usual, many thanks for Topi [for putting this challenge together](https://30daymapchallenge.com/)\n",
    "\n",
    "This year will be a.) a late start, and b.) a beginner-brain attempt to create all the maps in a python notebook. My comfort level with the medium has risen in recent years, but there's nothing quite like a 30-day map challenge to force me to learn new tricks. On we go."
   ]
  },
  {
   "cell_type": "markdown",
   "id": "743ac841",
   "metadata": {},
   "source": [
    "## The tasks\n",
    "![challenges](https://raw.githubusercontent.com/tjukanovt/30DayMapChallenge/main/images/flyers/30dmc-2023.png)"
   ]
  },
  {
   "cell_type": "markdown",
   "id": "aeb9bd4e",
   "metadata": {},
   "source": [
    "## The groundwork\n",
    "As usual I'll need a good data source, and perhaps a settled geographic location. I've done Vermont and Montreal in the past, but the themes seem to take us around the globe this year, so I'll plan to use [Natural Earth data](https://www.naturalearthdata.com/) wherever possible.\n",
    "\n",
    "There will also be something of a pileup of standard libraries for this project, and I'll begin importing them here"
   ]
  },
  {
   "cell_type": "code",
   "execution_count": 1,
   "id": "7f4f0f07",
   "metadata": {},
   "outputs": [],
   "source": [
    "%%capture \n",
    "# Set up the environment\n",
    "!python3 -m venv venv\n",
    "!source venv/bin/activate"
   ]
  },
  {
   "cell_type": "code",
   "execution_count": null,
   "id": "c73bb9f1",
   "metadata": {},
   "outputs": [],
   "source": [
    "%%capture \n",
    "# Import necessities\n",
    "!pip install pandas\n",
    "!pip install geopandas\n",
    "!pip install geodatasets\n",
    "!pip install contextily\n",
    "!pip install networkx\n",
    "!pip install osmnx\n",
    "# %matplotlib nbagg\n",
    "!pip install matplotlib\n",
    "!pip install mapclassify\n",
    "!pip install shapely==1.8.1\n",
    "!pip install numpy==1.22"
   ]
  },
  {
   "cell_type": "code",
   "execution_count": null,
   "id": "3f46e217",
   "metadata": {},
   "outputs": [],
   "source": [
    "import pandas as pd\n",
    "import geopandas as gpd\n",
    "from geopandas import GeoSeries\n",
    "import matplotlib.pyplot as plt\n",
    "import numpy as np"
   ]
  },
  {
   "cell_type": "code",
   "execution_count": null,
   "id": "210b3816",
   "metadata": {},
   "outputs": [],
   "source": [
    "# Define some data sources\n",
    "url_ne_pop_places_10 = \"http://naturalearth.s3.amazonaws.com/10m_cultural/ne_10m_populated_places.zip\"\n",
    "url_ne_geo_lines_10 = \"http://naturalearth.s3.amazonaws.com/10m_physical/ne_10m_rivers_lake_centerlines.zip\"\n",
    "url_ne_land_110 = \"http://naturalearth.s3.amazonaws.com/110m_physical/ne_110m_land.zip\"\n",
    "url_ne_admin_0_110 = \"http://naturalearth.s3.amazonaws.com/110m_cultural/ne_110m_admin_0_countries.zip\""
   ]
  },
  {
   "cell_type": "markdown",
   "id": "cc6c3ce8",
   "metadata": {},
   "source": [
    "## Day 1: Points\n",
    "Starting with global populated places . . ."
   ]
  },
  {
   "cell_type": "code",
   "execution_count": null,
   "id": "dfe0be6e",
   "metadata": {
    "scrolled": true
   },
   "outputs": [],
   "source": [
    "gdf_ne_pop_places_10 = gpd.read_file(url_ne_pop_places_10)\n",
    "gdf_ne_pop_places_10.plot(figsize=[16,8]).set_axis_off()"
   ]
  },
  {
   "cell_type": "markdown",
   "id": "397d7142",
   "metadata": {},
   "source": [
    "Wow, that was easy. Let's move on."
   ]
  },
  {
   "cell_type": "markdown",
   "id": "ad9041be",
   "metadata": {},
   "source": [
    "## Day 2: Lines"
   ]
  },
  {
   "cell_type": "code",
   "execution_count": null,
   "id": "0ad519df",
   "metadata": {},
   "outputs": [],
   "source": [
    "gdf_ne_geo_lines_10 = gpd.read_file(url_ne_geo_lines_10)\n",
    "gdf_ne_geo_lines_10.plot(figsize=[16,8]).set_axis_off()"
   ]
  },
  {
   "cell_type": "markdown",
   "id": "8e9cd3ce",
   "metadata": {},
   "source": [
    "Waterways!"
   ]
  },
  {
   "cell_type": "markdown",
   "id": "b82a5351",
   "metadata": {},
   "source": [
    "## Day 3: Polygons"
   ]
  },
  {
   "cell_type": "code",
   "execution_count": null,
   "id": "7748fbe7",
   "metadata": {},
   "outputs": [],
   "source": [
    "gdf_ne_land_110 = gpd.read_file(url_ne_land_110)\n",
    "gdf_ne_land_110.plot(figsize=[16,8]).set_axis_off()"
   ]
  },
  {
   "cell_type": "markdown",
   "id": "5ba5f508",
   "metadata": {},
   "source": [
    "Oh hey, that's an actual map of some recognizeable things!"
   ]
  },
  {
   "cell_type": "markdown",
   "id": "b20a5019",
   "metadata": {},
   "source": [
    "## Day 4: A bad map"
   ]
  },
  {
   "cell_type": "markdown",
   "id": "7afb4a43",
   "metadata": {},
   "source": [
    "Strictly speaking, all the maps so far have been \"bad maps\" - I'm deliberately going slow and avoiding adornment. But let's try to mess things up deliberately so that I can add something to my \"Cursed maps\" series."
   ]
  },
  {
   "cell_type": "code",
   "execution_count": null,
   "id": "02989759",
   "metadata": {},
   "outputs": [],
   "source": [
    "gdf_ne_admin_0_110 = gpd.read_file(url_ne_admin_0_110)\n",
    "gsr_ne_admin_0_110 = GeoSeries(gdf_ne_admin_0_110.geometry)\n",
    "gsr_ne_admin_0_110.skew(10, 70).rotate(15).plot(figsize=[16,8]).set_axis_off()"
   ]
  },
  {
   "cell_type": "markdown",
   "id": "526f0bab",
   "metadata": {},
   "source": [
    "Fabulous. Everything is so smooshed up it looks more like an artisanal North arrow."
   ]
  },
  {
   "cell_type": "markdown",
   "id": "e2919e86",
   "metadata": {},
   "source": [
    "## Day 5: Analog map\n",
    "\n",
    "> an·a·log - /ˈanlˌôɡ,ˈanlˌäɡ/\n",
    "> _adjective_\n",
    "> relating to or using signals or information represented by a continuously variable physical quantity such as spatial position, voltage, etc.\n",
    "> _\"analog signals\"_\n",
    "\n",
    "So we'll make a typewriter-style map."
   ]
  },
  {
   "cell_type": "code",
   "execution_count": null,
   "id": "629c7c01",
   "metadata": {},
   "outputs": [],
   "source": [
    "gdf_ne_pop_places_10 = gpd.read_file(url_ne_pop_places_10)\n",
    "gdf_ne_pop_places_10_scale2 = gdf_ne_pop_places_10[\n",
    "    (gdf_ne_pop_places_10['SCALERANK'] <= 3) &\n",
    "    (gdf_ne_pop_places_10['POP1950'] > 0) &\n",
    "    (gdf_ne_pop_places_10['POP2050'] > 0)\n",
    "]\n",
    "\n",
    "gdf_ne_pop_places_10_scale2['delta'] = (gdf_ne_pop_places_10_scale2['POP2050'] - gdf_ne_pop_places_10_scale2['POP1950']) * 1000\n",
    "\n",
    "max_delta = gdf_ne_pop_places_10_scale2['delta'].max()\n",
    "\n",
    "gdf_ne_pop_places_10_scale2.plot(\n",
    "    figsize=[16,8],\n",
    "    marker=2\n",
    "    #column=char\n",
    ").set_axis_off()"
   ]
  },
  {
   "cell_type": "markdown",
   "id": "66970c62",
   "metadata": {},
   "source": [
    "You may note that I ran out of time on this one 🤷‍♂️"
   ]
  },
  {
   "cell_type": "markdown",
   "id": "83e79cac",
   "metadata": {},
   "source": [
    "## Day 6: Asia"
   ]
  },
  {
   "cell_type": "code",
   "execution_count": null,
   "id": "247ac110",
   "metadata": {},
   "outputs": [],
   "source": [
    "gdf_ne_admin_0_110 = gpd.read_file(url_ne_admin_0_110)\n",
    "gdf_ne_admin_0_110.columns.values\n",
    "asia_set = ['AFG', 'BGD', 'BTN', 'CH1', 'IND', 'JPN', 'KAZ', 'KGZ', 'KHM', 'KOR', 'LAO', 'LKA', 'MMR', 'MNG', 'MYS', 'NPL', 'PAK', 'PHL', 'PRK', 'RUS', 'THA', 'TJK', 'TKM', 'TWN', 'UZB', 'VNM']\n",
    "\n",
    "gdf_ne_admin_0_110_asia = gdf_ne_admin_0_110[gdf_ne_admin_0_110['SOV_A3'].isin(asia_set)]\n",
    "\n",
    "gdf_ne_admin_0_110_asia = gdf_ne_admin_0_110_asia.to_crs(\"ESRI:102027\")\n",
    "\n",
    "gdf_ne_admin_0_110_asia.plot(\n",
    "    figsize=[16,8],\n",
    "    column=\"POP_EST\"\n",
    ").set_axis_off()"
   ]
  },
  {
   "cell_type": "markdown",
   "id": "72a9887c",
   "metadata": {},
   "source": [
    "No idea where Kazakhstan went, and no time to find out."
   ]
  },
  {
   "cell_type": "markdown",
   "id": "395f4ac6",
   "metadata": {},
   "source": [
    "## Day 7: Navigation\n",
    "Many thanks to Cesar Cheng [for this great 15 minute city example](https://medium.com/@cheng.cesar/15-min-city-8c00dbe279fc) - I've adapted it to focus on Huy, Belgium."
   ]
  },
  {
   "cell_type": "code",
   "execution_count": null,
   "id": "429d7c9e",
   "metadata": {},
   "outputs": [],
   "source": [
    "from shapely.geometry import Point, Polygon\n",
    "import mapclassify\n",
    "import networkx as nx\n",
    "import osmnx as ox"
   ]
  },
  {
   "cell_type": "code",
   "execution_count": null,
   "id": "5d1be265",
   "metadata": {},
   "outputs": [],
   "source": [
    "place = 'Huy, Belgium'\n",
    "network_type = 'walk'\n",
    "trip_times = [5,10,15,25] # in minutes\n",
    "travel_speed = 4.5 #walking speed in km/hour\n",
    "Graph = ox.graph_from_address(place,network_type=network_type)"
   ]
  },
  {
   "cell_type": "code",
   "execution_count": null,
   "id": "7ec01d2f",
   "metadata": {},
   "outputs": [],
   "source": [
    "grand_place = (50.518090631766746, 5.2409010386558705)\n",
    "center_node = ox.get_nearest_node(Graph,grand_place)\n",
    "\n",
    "meters_per_minute = travel_speed * 1000 / 60 \n",
    "for u, v, k, data in Graph.edges(data=True, keys=True):\n",
    "    data['time'] = data['length'] / meters_per_minute\n",
    "    \n",
    "# get one color for each isochrone\n",
    "iso_colors = ox.plot.get_colors(n=len(trip_times), cmap='magma', start=0, return_hex=True)\n",
    "node_colors = {}\n",
    "for trip_time, color in zip(sorted(trip_times, reverse=True), iso_colors):\n",
    "    subgraph = nx.ego_graph(Graph, center_node, radius=trip_time,  distance='time')\n",
    "    for node in subgraph.nodes():\n",
    "        node_colors[node] = color\n",
    "nc = [node_colors[node] if node in node_colors else 'none' for node in Graph.nodes()]\n",
    "ns = [15 if node in node_colors else 0 for node in Graph.nodes()]\n",
    "# plot graph\n",
    "fig, ax = ox.plot_graph(\n",
    "    Graph, \n",
    "    node_color=nc, \n",
    "    node_size=ns, \n",
    "    node_alpha=0.8, \n",
    "    node_zorder=2,\n",
    "    bgcolor='k', \n",
    "    edge_linewidth=0.2, \n",
    "    edge_color='#999999'\n",
    ")"
   ]
  },
  {
   "cell_type": "markdown",
   "id": "d224f8a8",
   "metadata": {},
   "source": [
    "## Day 8: Africa"
   ]
  },
  {
   "cell_type": "code",
   "execution_count": null,
   "id": "5acbf01b",
   "metadata": {},
   "outputs": [],
   "source": [
    "gdf_ne_admin_0_110 = gpd.read_file(url_ne_admin_0_110)\n",
    "gdf_ne_admin_0_110.columns.values\n",
    "africa_set = ['AGO', 'BDI', 'BEN', 'BFA', 'BWA', 'CAF', 'CIV', 'CMR', 'COD', 'COG', 'DJI', 'DZA', 'EGY', 'ERI', 'ETH', 'GAB', 'GHA', 'GIN', 'GMB', 'GNB', 'GNQ', 'KEN', 'LBR', 'LBY', 'LSO', 'MAR', 'MDG', 'MLI', 'MOZ', 'MRT', 'MWI', 'NAM', 'NER', 'NGA', 'RWA', 'SAH', 'SDN', 'SDS', 'SEN', 'SLE', 'SOL', 'SOM', 'SWZ', 'TCD', 'TGO', 'TUN', 'TZA', 'UGA', 'ZAF', 'ZMB', 'ZWE']\n",
    "\n",
    "gdf_ne_admin_0_110_africa = gdf_ne_admin_0_110[gdf_ne_admin_0_110['SOV_A3'].isin(africa_set)]\n",
    "\n",
    "gdf_ne_admin_0_110_africa = gdf_ne_admin_0_110_africa.to_crs(\"ESRI:102011\")\n",
    "\n",
    "gdf_ne_admin_0_110_africa.plot(\n",
    "    figsize=[16,8],\n",
    "    column=\"POP_EST\",\n",
    "    scheme=\"QUANTILES\",\n",
    "    k=9,\n",
    "    legend=True,\n",
    "    legend_kwds={\"loc\": \"center left\", \"bbox_to_anchor\": (1, 0.5)}\n",
    ").set_axis_off()"
   ]
  },
  {
   "cell_type": "markdown",
   "id": "43813dc6",
   "metadata": {},
   "source": [
    "## Day 9: Hexagons"
   ]
  },
  {
   "cell_type": "markdown",
   "id": "83389323",
   "metadata": {},
   "source": [
    "## Day 10: North America"
   ]
  },
  {
   "cell_type": "markdown",
   "id": "7a354f21",
   "metadata": {},
   "source": [
    "## Day 11: Retro"
   ]
  },
  {
   "cell_type": "markdown",
   "id": "2db6b09a",
   "metadata": {},
   "source": [
    "## Day 12: South America"
   ]
  },
  {
   "cell_type": "markdown",
   "id": "de41bdc5",
   "metadata": {},
   "source": [
    "## Day 13: Choropleth"
   ]
  },
  {
   "cell_type": "markdown",
   "id": "eea87e91",
   "metadata": {},
   "source": [
    "## Day 14: Europe"
   ]
  },
  {
   "cell_type": "markdown",
   "id": "66166784",
   "metadata": {},
   "source": [
    "## Scratchpad"
   ]
  },
  {
   "cell_type": "code",
   "execution_count": null,
   "id": "53179895",
   "metadata": {},
   "outputs": [],
   "source": [
    "import geopandas\n",
    "import geodatasets\n",
    "import contextily as cx"
   ]
  },
  {
   "cell_type": "code",
   "execution_count": null,
   "id": "f4dbb31f",
   "metadata": {},
   "outputs": [],
   "source": [
    "df = geopandas.read_file(geodatasets.get_path(\"nybb\"))\n",
    "df_wm = df.to_crs(epsg=3857)\n",
    "\n",
    "ax = df_wm.plot(figsize=(10, 10), alpha=0.5, edgecolor=\"k\")\n",
    "cx.add_basemap(ax, source=cx.providers.CartoDB.Positron)\n",
    "cx.add_basemap(ax, source=cx.providers.CartoDB.PositronOnlyLabels, zoom=10)\n",
    "ax.set_axis_off()"
   ]
  },
  {
   "cell_type": "code",
   "execution_count": null,
   "id": "221cc18d",
   "metadata": {},
   "outputs": [],
   "source": []
  }
 ],
 "metadata": {
  "kernelspec": {
   "display_name": "Python 3 (ipykernel)",
   "language": "python",
   "name": "python3"
  },
  "language_info": {
   "codemirror_mode": {
    "name": "ipython",
    "version": 3
   },
   "file_extension": ".py",
   "mimetype": "text/x-python",
   "name": "python",
   "nbconvert_exporter": "python",
   "pygments_lexer": "ipython3",
   "version": "3.9.5"
  }
 },
 "nbformat": 4,
 "nbformat_minor": 5
}
